{
  "nbformat": 4,
  "nbformat_minor": 0,
  "metadata": {
    "colab": {
      "provenance": [],
      "toc_visible": true,
      "authorship_tag": "ABX9TyO4XaXUlOMV1/qLDb5gRepo",
      "include_colab_link": true
    },
    "kernelspec": {
      "name": "python3",
      "display_name": "Python 3"
    },
    "language_info": {
      "name": "python"
    }
  },
  "cells": [
    {
      "cell_type": "markdown",
      "metadata": {
        "id": "view-in-github",
        "colab_type": "text"
      },
      "source": [
        "<a href=\"https://colab.research.google.com/github/shahzadmari/DSA_Lab/blob/main/lab4Tasks.ipynb\" target=\"_parent\"><img src=\"https://colab.research.google.com/assets/colab-badge.svg\" alt=\"Open In Colab\"/></a>"
      ]
    },
    {
      "cell_type": "code",
      "execution_count": null,
      "metadata": {
        "id": "QCe8rLyDmFRF"
      },
      "outputs": [],
      "source": []
    },
    {
      "cell_type": "markdown",
      "source": [
        "**Roll no : 20SW067**\n",
        "\n",
        "**Lab 3 Tasks**\n",
        "\n",
        "**Name : Shahzad Haider**\n",
        "\n",
        "# Task#01\n",
        "# import numpy as np\n",
        "\n",
        " # Using the Built-in functions you learned about in the\n",
        " # previous lesson, create a 4 x 4 ndarray that only\n",
        " # contains consecutive even numbers from 2 to 32 (inclusive)\n",
        "\n"
      ],
      "metadata": {
        "id": "RzDf3W4VrjiC"
      }
    },
    {
      "cell_type": "markdown",
      "source": [],
      "metadata": {
        "id": "UJwoFGDtmGEO"
      }
    },
    {
      "cell_type": "code",
      "source": [
        "\n",
        "import numpy as np\n",
        "\n",
        "x = np.array(np.arange(2,33,2).reshape(4,4))\n",
        "# printing the dimensions of array\n",
        "x.ndim\n"
      ],
      "metadata": {
        "colab": {
          "base_uri": "https://localhost:8080/"
        },
        "id": "BtziFgNSnqbp",
        "outputId": "a37f36ef-14e1-4631-cb8c-cc2e423a835c"
      },
      "execution_count": 1,
      "outputs": [
        {
          "output_type": "execute_result",
          "data": {
            "text/plain": [
              "2"
            ]
          },
          "metadata": {},
          "execution_count": 1
        }
      ]
    },
    {
      "cell_type": "code",
      "source": [
        "# printing the elements of the array\n",
        "print(x)"
      ],
      "metadata": {
        "id": "0Qy8a5YZptky",
        "colab": {
          "base_uri": "https://localhost:8080/"
        },
        "outputId": "d95a1a4f-f76d-4e38-d33c-81935c9f4eda"
      },
      "execution_count": 2,
      "outputs": [
        {
          "output_type": "stream",
          "name": "stdout",
          "text": [
            "[[ 2  4  6  8]\n",
            " [10 12 14 16]\n",
            " [18 20 22 24]\n",
            " [26 28 30 32]]\n"
          ]
        }
      ]
    },
    {
      "cell_type": "markdown",
      "source": [
        "# Task 2"
      ],
      "metadata": {
        "id": "mbsN2khQpt86"
      }
    },
    {
      "cell_type": "code",
      "source": [
        "import numpy as np\n",
        "\n",
        "# # Create a 5 x 5 ndarray with consecutive integers from 1 to 25 (inclusive).\n",
        "# # Afterwards use Boolean indexing to pick out only the odd numbers in the array\n",
        "\n",
        "# # Create a 5 x 5 ndarray with consecutive integers from 1 to 25 (inclusive).\n",
        "X = np.array(np.arange(1,26).reshape(5,5))\n",
        "\n",
        "# # Use Boolean indexing to pick out only the odd numbers in the array\n",
        "print(X)\n",
        "\n"
      ],
      "metadata": {
        "colab": {
          "base_uri": "https://localhost:8080/"
        },
        "id": "WvtFqNKVpvAG",
        "outputId": "001e175f-b2e5-4865-9fad-12cd28a79e86"
      },
      "execution_count": 3,
      "outputs": [
        {
          "output_type": "stream",
          "name": "stdout",
          "text": [
            "[[ 1  2  3  4  5]\n",
            " [ 6  7  8  9 10]\n",
            " [11 12 13 14 15]\n",
            " [16 17 18 19 20]\n",
            " [21 22 23 24 25]]\n"
          ]
        }
      ]
    },
    {
      "cell_type": "markdown",
      "source": [
        "# Task 3\n",
        "\n"
      ],
      "metadata": {
        "id": "7cNUv9ghvBSR"
      }
    },
    {
      "cell_type": "code",
      "source": [
        "import numpy as np\n",
        "\n",
        "# # Use Broadcasting to create a 4 x 4 ndarray that has its first\n",
        "# # column full of 1s, its second column full of 2s, its third\n",
        "# # column full of 3s, etc..\n",
        "\n",
        "X = np.arange(1,5).reshape(4,1)\n",
        "\n",
        "y = X*np.ones((1,4), dtype=int)\n",
        "print(y)"
      ],
      "metadata": {
        "colab": {
          "base_uri": "https://localhost:8080/"
        },
        "id": "eouM12FcvljE",
        "outputId": "6e19111d-758e-4aee-f9bb-cb5cf7395dc3"
      },
      "execution_count": 5,
      "outputs": [
        {
          "output_type": "stream",
          "name": "stdout",
          "text": [
            "[[1 1 1 1]\n",
            " [2 2 2 2]\n",
            " [3 3 3 3]\n",
            " [4 4 4 4]]\n"
          ]
        }
      ]
    },
    {
      "cell_type": "code",
      "source": [
        "# boolean indexing\n",
        "odd_nums = X[X % 2 == 1]\n",
        "print(odd_nums)"
      ],
      "metadata": {
        "id": "ZlF2c84kwyon",
        "colab": {
          "base_uri": "https://localhost:8080/"
        },
        "outputId": "4663c835-661b-423e-89aa-54772c33c83f"
      },
      "execution_count": 4,
      "outputs": [
        {
          "output_type": "stream",
          "name": "stdout",
          "text": [
            "[ 1  3  5  7  9 11 13 15 17 19 21 23 25]\n"
          ]
        }
      ]
    }
  ]
}