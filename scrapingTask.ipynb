{
  "nbformat": 4,
  "nbformat_minor": 0,
  "metadata": {
    "colab": {
      "provenance": [],
      "authorship_tag": "ABX9TyNJ4cMqQFK7LJ15vSkCLmJq",
      "include_colab_link": true
    },
    "kernelspec": {
      "name": "python3",
      "display_name": "Python 3"
    },
    "language_info": {
      "name": "python"
    }
  },
  "cells": [
    {
      "cell_type": "markdown",
      "metadata": {
        "id": "view-in-github",
        "colab_type": "text"
      },
      "source": [
        "<a href=\"https://colab.research.google.com/github/shahzadmari/DSA_Lab/blob/main/scrapingTask.ipynb\" target=\"_parent\"><img src=\"https://colab.research.google.com/assets/colab-badge.svg\" alt=\"Open In Colab\"/></a>"
      ]
    },
    {
      "cell_type": "code",
      "execution_count": 9,
      "metadata": {
        "colab": {
          "base_uri": "https://localhost:8080/"
        },
        "id": "Q1f8cgDvXyHP",
        "outputId": "e467b5c4-eb9e-4bcd-c777-92f269620e27"
      },
      "outputs": [
        {
          "output_type": "stream",
          "name": "stdout",
          "text": [
            "<!DOCTYPE html>\r\n",
            "<html lang=\"en\">\r\n",
            "<head>\r\n",
            "<title>Lorem Ipsum - All the facts - Lipsum generator</title>\r\n",
            "<meta name=\"keywords\" content=\"Lorem Ipsum, Lipsum, Lorem, Ipsum, Text, Generate, Generator, Facts, Information, What, Why, Where, Dummy Text, Typesetting, Printing, de Finibus, Bonorum et Malorum, de Finibus Bonorum et Malorum, Extremes of Good and Evil, Cicero, Latin, Garbled, Scrambled, Lorem ipsum dolor sit amet, dolor, sit amet, consectetur, adipiscing, elit, sed, eiusmod, tempor, incididunt\" />\r\n",
            "<meta name=\"description\" content=\"Reference site about Lorem Ipsum, giving information on its origins, as well as a random Lipsum generator.\" />\r\n",
            "<meta name=\"viewport\" content=\"width=device-width,initial-scale=1.0\" />\r\n",
            "<meta http-equiv=\"content-type\" content=\"text/html; charset=utf-8\" />\r\n",
            "<!-- Google adsense -->\r\n",
            "<script async src=\"https://pagead2.googlesyndication.com/pagead/js/adsbygoogle.js?client=ca-pub-9385669889547030\" crossorigin=\"anonymous\"></script>\r\n",
            "<!-- Google tag (gtag.js) -->\r\n",
            "<script async src=\"https://www.googletagmanager.com/gtag/js?id=G-W02QY0T0GX\"></script>\r\n",
            "<script> window.dataLayer = window.dataLayer || []; function gtag(){dataLayer.push(arguments);} gtag('js', new Date()); gtag('config', 'G-W02QY0T0GX'); </script>\r\n",
            "<!-- PLACE THIS SECTION INSIDE OF YOUR HEAD TAGS -->\n",
            "<!-- Below is a recommended list of pre-connections, which allow the network to establish each connection quicker, speeding up response times and improving ad performance. -->\n",
            "<link rel=\"preconnect\" href=\"https://a.pub.network/\" crossorigin />\n",
            "<link rel=\"preconnect\" href=\"https://b.pub.network/\" crossorigin />\n",
            "<link rel=\"preconnect\" href=\"https://c.pub.network/\" crossorigin />\n",
            "<link rel=\"preconnect\" href=\"https://d.pub.network/\" crossorigin />\n",
            "<link rel=\"preconnect\" href=\"https://c.amazon-adsystem.com\" crossorigin />\n",
            "<link rel=\"preconnect\" href=\"https://s.amazon-adsystem.com\" crossorigin />\n",
            "<link rel=\"preconnect\" href=\"https://secure.quantserve.com/\" crossorigin />\n",
            "<link rel=\"preconnect\" href=\"https://rules.quantcount.com/\" crossorigin />\n",
            "<link rel=\"preconnect\" href=\"https://pixel.quantserve.com/\" crossorigin />\n",
            "<link rel=\"preconnect\" href=\"https://cmp.quantcast.com/\" crossorigin />\n",
            "<link rel=\"preconnect\" href=\"https://btloader.com/\" crossorigin />\n",
            "<link rel=\"preconnect\" href=\"https://api.btloader.com/\" crossorigin />\n",
            "<link rel=\"preconnect\" href=\"https://confiant-integrations.global.ssl.fastly.net\" crossorigin />\n",
            "<!-- Below is a link to a CSS file that accounts for Cumulative Layout Shift, a new Core Web Vitals subset that Google uses to help rank your site in search -->\n",
            "<!-- The file is intended to eliminate the layout shifts that are seen when ads load into the page. If you don't want to use this, simply remove this file -->\n",
            "<!-- To find out more about CLS, visit https://web.dev/vitals/ -->\n",
            "<link rel=\"stylesheet\" href=\"https://a.pub.network/lipsum-com/cls.css\">\n",
            "<script data-cfasync=\"false\" type=\"text/javascript\">\n",
            "  var freestar = freestar || {};\n",
            "  freestar.queue = freestar.queue || [];\n",
            "  freestar.config = freestar.config || {};\n",
            "  freestar.config.enabled_slots = [];\n",
            "  freestar.initCallback = function () { (freestar.config.enabled_slots.length === 0) ? freestar.initCallbackCalled = false : freestar.newAdSlots(freestar.config.enabled_slots) }\n",
            "</script>\n",
            "<script src=\"https://a.pub.network/lipsum-com/pubfig.min.js\" data-cfasync=\"false\" async></script>\r\n",
            "    <link rel=\"icon\" type=\"image/x-icon\" href=\"/favicon.ico\" />\r\n",
            "    <link rel=\"stylesheet\" type=\"text/css\" href=\"/css/230223.css\" />\r\n",
            "</head>\r\n",
            "<body>\r\n",
            "<div id=\"Outer\">\r\n",
            "\r\n",
            "<div class=\"banner\" style=\"min-height:90px\"><!-- Tag ID: lipsumcom_header -->\n",
            "<div align=\"center\" data-freestar-ad=\"__336x280 __970x250\" id=\"lipsumcom_header\">\n",
            "  <script data-cfasync=\"false\" type=\"text/javascript\">\n",
            "    freestar.config.enabled_slots.push({ placementName: \"lipsumcom_header\", slotId: \"lipsumcom_header\" });\n",
            "  </script>\n",
            "</div></div>\r\n",
            "\r\n",
            "<div id=\"Inner\">\r\n",
            "\r\n",
            "<div id=\"Languages\"><a href=\"http://hy.lipsum.com/\">&#1344;&#1377;&#1397;&#1381;&#1408;&#1381;&#1398;</a> <a href=\"http://sq.lipsum.com/\">Shqip</a> <span class=\"ltr\" dir=\"ltr\"><a href=\"http://ar.lipsum.com/\">&#8235;&#1575;&#1604;&#1593;&#1585;&#1576;&#1610;&#1577;</a></span> <a href=\"http://bg.lipsum.com/\">&#1041;&#1098;&#1083;&#1075;&#1072;&#1088;&#1089;&#1082;&#1080;</a> <a href=\"http://ca.lipsum.com/\">Catal&agrave;</a> <a href=\"http://cn.lipsum.com/\">&#20013;&#25991;&#31616;&#20307;</a> <a href=\"http://hr.lipsum.com/\">Hrvatski</a> <a href=\"http://cs.lipsum.com/\">&#268;esky</a> <a href=\"http://da.lipsum.com/\">Dansk</a> <a href=\"http://nl.lipsum.com/\">Nederlands</a> <a class=\"zz\" href=\"http://www.lipsum.com/\">English</a> <a href=\"http://et.lipsum.com/\">Eesti</a> <a href=\"http://ph.lipsum.com/\">Filipino</a> <a href=\"http://fi.lipsum.com/\">Suomi</a> <a href=\"http://fr.lipsum.com/\">Fran&ccedil;ais</a> <a href=\"http://ka.lipsum.com/\">&#4325;&#4304;&#4320;&#4311;&#4323;&#4314;&#4312;</a> <a href=\"http://de.lipsum.com/\">Deutsch</a> <a href=\"http://el.lipsum.com/\">&#917;&#955;&#955;&#951;&#957;&#953;&#954;&#940;</a> <span class=\"ltr\" dir=\"ltr\"><a href=\"http://he.lipsum.com/\">&#8235;&#1506;&#1489;&#1512;&#1497;&#1514;</a></span> <a href=\"http://hi.lipsum.com/\">&#2361;&#2367;&#2344;&#2381;&#2342;&#2368;</a> <a href=\"http://hu.lipsum.com/\">Magyar</a> <a href=\"http://id.lipsum.com/\">Indonesia</a> <a href=\"http://it.lipsum.com/\">Italiano</a> <a href=\"http://lv.lipsum.com/\">Latviski</a> <a href=\"http://lt.lipsum.com/\">Lietuvi&scaron;kai</a> <a href=\"http://mk.lipsum.com/\">&#1084;&#1072;&#1082;&#1077;&#1076;&#1086;&#1085;&#1089;&#1082;&#1080;</a> <a href=\"http://ms.lipsum.com/\">Melayu</a> <a href=\"http://no.lipsum.com/\">Norsk</a> <a href=\"http://pl.lipsum.com/\">Polski</a> <a href=\"http://pt.lipsum.com/\">Portugu&ecirc;s</a> <a href=\"http://ro.lipsum.com/\">Rom&acirc;na</a> <a href=\"http://ru.lipsum.com/\">Pycc&#1082;&#1080;&#1081;</a> <a href=\"http://sr.lipsum.com/\">&#1057;&#1088;&#1087;&#1089;&#1082;&#1080;</a> <a href=\"http://sk.lipsum.com/\">Sloven&#269;ina</a> <a href=\"http://sl.lipsum.com/\">Sloven&#353;&#269;ina</a> <a href=\"http://es.lipsum.com/\">Espa&ntilde;ol</a> <a href=\"http://sv.lipsum.com/\">Svenska</a> <a href=\"http://th.lipsum.com/\">&#3652;&#3607;&#3618;</a> <a href=\"http://tr.lipsum.com/\">T&uuml;rk&ccedil;e</a> <a href=\"http://uk.lipsum.com/\">&#1059;&#1082;&#1088;&#1072;&#1111;&#1085;&#1089;&#1100;&#1082;&#1072;</a> <a href=\"http://vi.lipsum.com/\">Ti&#7871;ng Vi&#7879;t</a> </div>\r\n",
            "\r\n",
            "<h1>Lorem Ipsum</h1>\n",
            "<h4>\"Neque porro quisquam est qui dolorem ipsum quia dolor sit amet, consectetur, adipisci velit...\"</h4>\n",
            "<h5>\"There is no one who loves pain itself, who seeks after it and wants to have it, simply because it is pain...\"</h5>\n",
            "\r\n",
            "\r\n",
            "<hr />\r\n",
            "\r\n",
            "<div id=\"Content\">\r\n",
            "<div id=\"bannerL\"><!-- Tag ID: lipsumcom_left_siderail -->\n",
            "<div align=\"center\" data-freestar-ad=\"__300x600\" id=\"lipsumcom_left_siderail\">\n",
            "  <script data-cfasync=\"false\" type=\"text/javascript\">\n",
            "    freestar.config.enabled_slots.push({ placementName: \"lipsumcom_left_siderail\", slotId: \"lipsumcom_left_siderail\" });\n",
            "  </script>\n",
            "</div></div>\r\n",
            "<div id=\"bannerR\"><!-- Tag ID: lipsumcom_right_siderail -->\n",
            "<div align=\"center\" data-freestar-ad=\"__300x600\" id=\"lipsumcom_right_siderail\">\n",
            "  <script data-cfasync=\"false\" type=\"text/javascript\">\n",
            "    freestar.config.enabled_slots.push({ placementName: \"lipsumcom_right_siderail\", slotId: \"lipsumcom_right_siderail\" });\n",
            "  </script>\n",
            "</div></div>\r\n",
            "<div class=\"boxed\"><!-- \n",
            "\n",
            "\n",
            "If you want to use Lorem Ipsum within another program please contact us for details\n",
            "on our API rather than parse the HTML below, we have XML and JSON available.\n",
            "\n",
            "\n",
            " --><div id=\"lipsum\">\n",
            "<p>\n",
            "Lorem ipsum dolor sit amet, consectetur adipiscing elit. Aliquam massa mi, elementum id tincidunt a, vehicula vitae erat. Phasellus ultrices urna ac leo porta pulvinar. Aliquam aliquet volutpat velit ut porttitor. Sed sed nibh vel eros venenatis laoreet. Aenean accumsan diam ut est tempus, eu tempus erat suscipit. Cras rutrum lectus ac rhoncus lacinia. Vivamus egestas congue felis at dignissim. Mauris convallis suscipit quam rhoncus lobortis. Phasellus dignissim mi vehicula tortor finibus aliquet. Donec sed sollicitudin odio. Nunc elit nibh, pellentesque sed mollis sit amet, pulvinar et erat. Nullam tincidunt dolor vel felis mollis laoreet. Sed euismod urna ac ligula vestibulum vehicula. Suspendisse potenti.\n",
            "</p>\n",
            "<p>\n",
            "Aenean ullamcorper eros eros, id molestie nisi commodo non. Nulla sollicitudin tincidunt elit, a facilisis ligula gravida eget. Curabitur magna diam, tincidunt sagittis convallis consectetur, gravida nec nisl. Aenean elit tellus, ultrices vitae metus sed, condimentum faucibus mauris. Ut rhoncus, erat a mattis commodo, nunc magna iaculis ligula, id tempor erat metus nec quam. Vestibulum odio enim, suscipit id mattis et, tempus eu arcu. Integer sagittis vitae sem interdum vehicula. Curabitur dignissim ex sit amet enim venenatis dapibus. Nulla varius augue massa, ut malesuada mauris porta eget. Morbi sit amet velit eget ex fermentum finibus sed non ex. Nunc vulputate felis eu augue aliquet, blandit dictum massa maximus. Curabitur blandit molestie quam eu hendrerit. Integer sed nisl vel magna rhoncus placerat. Integer malesuada viverra felis quis porta. Pellentesque sodales arcu at odio sollicitudin, id pharetra ex sollicitudin. Pellentesque vitae nibh et sapien rutrum scelerisque at in quam.\n",
            "</p>\n",
            "<p>\n",
            "Morbi hendrerit rutrum massa, at sagittis ligula gravida at. Nullam dapibus est eros, in tincidunt sapien dapibus ac. Mauris finibus, est in mattis molestie, odio tortor ultricies nulla, sit amet ultricies nisl mi in mauris. Morbi sodales semper fermentum. Nulla venenatis, purus at porta ultrices, erat lectus ultrices nunc, ut rutrum ligula erat sed arcu. Etiam sodales neque eu nibh vulputate feugiat. Sed pellentesque scelerisque pellentesque. Vestibulum sed elit nec urna consectetur molestie eget id ex.\n",
            "</p>\n",
            "<p>\n",
            "Sed quis faucibus quam. Proin gravida at elit sed condimentum. Morbi vitae congue sapien. Donec porttitor risus erat. Curabitur commodo mauris non elit sagittis, vitae lobortis odio pulvinar. In sagittis purus vitae purus dapibus pellentesque. Curabitur posuere aliquam congue. Sed porttitor leo semper nisi ultrices, vel luctus nibh vehicula. Proin faucibus aliquam scelerisque. Cras magna lorem, iaculis eu nibh in, sodales varius justo. Donec ut placerat enim. Aliquam vulputate nibh eu enim dictum aliquet. Vestibulum sed neque sollicitudin, porta velit nec, laoreet turpis. Duis bibendum turpis vel diam dictum rutrum.\n",
            "</p>\n",
            "<p>\n",
            "Quisque eu dolor tortor. Nulla volutpat urna ex, ultricies efficitur lectus iaculis sit amet. In fermentum, ante vel venenatis vulputate, magna felis vulputate enim, sed laoreet ligula urna dapibus nisi. Suspendisse in sem sed elit posuere posuere et at felis. Phasellus rhoncus facilisis erat sit amet hendrerit. Praesent interdum elit dui, in dapibus risus gravida dignissim. Fusce nec dolor vitae dui lobortis hendrerit. Fusce eu velit quis nulla pharetra laoreet sed vel enim. Phasellus eget massa vulputate, lobortis velit sit amet, placerat nulla. Phasellus porta nec enim at euismod. Etiam interdum, eros eget semper mattis, nisl enim porttitor lectus, hendrerit mollis tortor leo ut velit.\n",
            "</p></div>\n",
            "<div id=\"generated\">Generated 5 paragraphs, 522 words, 3549 bytes of <a href=\"https://www.lipsum.com/\" title=\"Lorem Ipsum\">Lorem Ipsum</a></div>\n",
            "</div>\r\n",
            "</div>\r\n",
            "\r\n",
            "<hr />\r\n",
            "\r\n",
            "<div class=\"boxed\"><a style=\"text-decoration:none\" href=\"mailto:help&#64;l&#105;psu&#109;&#x2e;c&#x6f;m\">he&#x6c;p&#64;li&#x70;sum&#46;com</a><br /><a style=\"text-decoration:none\" rel=\"nofollow\" href=\"/privacy\" />Privacy Policy</a>\r\n",
            "&middot;\r\n",
            "<a style=\"cursor:pointer\" class=\"change-consent\" onclick=\"window.__uspapi('displayUspUi');\">Do Not Sell My Personal Information</a>\r\n",
            "&middot;\r\n",
            "<a style=\"cursor:pointer\" class=\"change-consent\" onclick=\"window.__tcfapi('displayConsentUi', 2, function() {} );\">Change Consent</a>\r\n",
            "</div>\r\n",
            "\r\n",
            "\r\n",
            "\r\n",
            "</div>\r\n",
            "\r\n",
            "<div class=\"banner\" style=\"margin-bottom:110px\"><!-- Tag ID: lipsumcom_leaderboard_bottom -->\n",
            "<div align=\"center\" data-freestar-ad=\"__336x280 __970x250\" id=\"lipsumcom_leaderboard_bottom\">\n",
            "  <script data-cfasync=\"false\" type=\"text/javascript\">\n",
            "    freestar.config.enabled_slots.push({ placementName: \"lipsumcom_leaderboard_bottom\", slotId: \"lipsumcom_leaderboard_bottom\" });\n",
            "  </script>\n",
            "</div></div>\r\n",
            "\r\n",
            "</div>\r\n",
            "\r\n",
            "<!-- Generated in 0.007 seconds -->\n",
            "</body></html>\r\n",
            "\n"
          ]
        }
      ],
      "source": [
        "import requests\n",
        "import json\n",
        "\n",
        "# Fetch a web page\n",
        "r = requests.get(\"https://www.lipsum.com/feed/html\")\n",
        "print(r.text)\n"
      ]
    },
    {
      "cell_type": "code",
      "source": [
        "from bs4 import BeautifulSoup\n",
        "\n",
        "# Remove HTML tags using Beautiful Soup library\n",
        "soup = BeautifulSoup(r.text, \"html5lib\")\n",
        "print(soup.get_text())"
      ],
      "metadata": {
        "colab": {
          "base_uri": "https://localhost:8080/"
        },
        "id": "gUECUfrlbSNX",
        "outputId": "c972c1fb-66d9-4e02-978a-724de163cd19"
      },
      "execution_count": 10,
      "outputs": [
        {
          "output_type": "stream",
          "name": "stdout",
          "text": [
            "\n",
            "Lorem Ipsum - All the facts - Lipsum generator\n",
            "\n",
            "\n",
            "\n",
            "\n",
            "\n",
            "\n",
            "\n",
            "\n",
            " window.dataLayer = window.dataLayer || []; function gtag(){dataLayer.push(arguments);} gtag('js', new Date()); gtag('config', 'G-W02QY0T0GX'); \n",
            "\n",
            "\n",
            "\n",
            "\n",
            "\n",
            "\n",
            "\n",
            "\n",
            "\n",
            "\n",
            "\n",
            "\n",
            "\n",
            "\n",
            "\n",
            "\n",
            "\n",
            "\n",
            "\n",
            "\n",
            "  var freestar = freestar || {};\n",
            "  freestar.queue = freestar.queue || [];\n",
            "  freestar.config = freestar.config || {};\n",
            "  freestar.config.enabled_slots = [];\n",
            "  freestar.initCallback = function () { (freestar.config.enabled_slots.length === 0) ? freestar.initCallbackCalled = false : freestar.newAdSlots(freestar.config.enabled_slots) }\n",
            "\n",
            "\n",
            "    \n",
            "    \n",
            "\n",
            "\n",
            "\n",
            "\n",
            "\n",
            "\n",
            "  \n",
            "    freestar.config.enabled_slots.push({ placementName: \"lipsumcom_header\", slotId: \"lipsumcom_header\" });\n",
            "  \n",
            "\n",
            "\n",
            "\n",
            "\n",
            "Հայերեն Shqip ‫العربية Български Català 中文简体 Hrvatski Česky Dansk Nederlands English Eesti Filipino Suomi Français ქართული Deutsch Ελληνικά ‫עברית हिन्दी Magyar Indonesia Italiano Latviski Lietuviškai македонски Melayu Norsk Polski Português Româna Pyccкий Српски Slovenčina Slovenščina Español Svenska ไทย Türkçe Українська Tiếng Việt \n",
            "\n",
            "Lorem Ipsum\n",
            "\"Neque porro quisquam est qui dolorem ipsum quia dolor sit amet, consectetur, adipisci velit...\"\n",
            "\"There is no one who loves pain itself, who seeks after it and wants to have it, simply because it is pain...\"\n",
            "\n",
            "\n",
            "\n",
            "\n",
            "\n",
            "\n",
            "\n",
            "  \n",
            "    freestar.config.enabled_slots.push({ placementName: \"lipsumcom_left_siderail\", slotId: \"lipsumcom_left_siderail\" });\n",
            "  \n",
            "\n",
            "\n",
            "\n",
            "  \n",
            "    freestar.config.enabled_slots.push({ placementName: \"lipsumcom_right_siderail\", slotId: \"lipsumcom_right_siderail\" });\n",
            "  \n",
            "\n",
            "\n",
            "\n",
            "Lorem ipsum dolor sit amet, consectetur adipiscing elit. Aliquam massa mi, elementum id tincidunt a, vehicula vitae erat. Phasellus ultrices urna ac leo porta pulvinar. Aliquam aliquet volutpat velit ut porttitor. Sed sed nibh vel eros venenatis laoreet. Aenean accumsan diam ut est tempus, eu tempus erat suscipit. Cras rutrum lectus ac rhoncus lacinia. Vivamus egestas congue felis at dignissim. Mauris convallis suscipit quam rhoncus lobortis. Phasellus dignissim mi vehicula tortor finibus aliquet. Donec sed sollicitudin odio. Nunc elit nibh, pellentesque sed mollis sit amet, pulvinar et erat. Nullam tincidunt dolor vel felis mollis laoreet. Sed euismod urna ac ligula vestibulum vehicula. Suspendisse potenti.\n",
            "\n",
            "\n",
            "Aenean ullamcorper eros eros, id molestie nisi commodo non. Nulla sollicitudin tincidunt elit, a facilisis ligula gravida eget. Curabitur magna diam, tincidunt sagittis convallis consectetur, gravida nec nisl. Aenean elit tellus, ultrices vitae metus sed, condimentum faucibus mauris. Ut rhoncus, erat a mattis commodo, nunc magna iaculis ligula, id tempor erat metus nec quam. Vestibulum odio enim, suscipit id mattis et, tempus eu arcu. Integer sagittis vitae sem interdum vehicula. Curabitur dignissim ex sit amet enim venenatis dapibus. Nulla varius augue massa, ut malesuada mauris porta eget. Morbi sit amet velit eget ex fermentum finibus sed non ex. Nunc vulputate felis eu augue aliquet, blandit dictum massa maximus. Curabitur blandit molestie quam eu hendrerit. Integer sed nisl vel magna rhoncus placerat. Integer malesuada viverra felis quis porta. Pellentesque sodales arcu at odio sollicitudin, id pharetra ex sollicitudin. Pellentesque vitae nibh et sapien rutrum scelerisque at in quam.\n",
            "\n",
            "\n",
            "Morbi hendrerit rutrum massa, at sagittis ligula gravida at. Nullam dapibus est eros, in tincidunt sapien dapibus ac. Mauris finibus, est in mattis molestie, odio tortor ultricies nulla, sit amet ultricies nisl mi in mauris. Morbi sodales semper fermentum. Nulla venenatis, purus at porta ultrices, erat lectus ultrices nunc, ut rutrum ligula erat sed arcu. Etiam sodales neque eu nibh vulputate feugiat. Sed pellentesque scelerisque pellentesque. Vestibulum sed elit nec urna consectetur molestie eget id ex.\n",
            "\n",
            "\n",
            "Sed quis faucibus quam. Proin gravida at elit sed condimentum. Morbi vitae congue sapien. Donec porttitor risus erat. Curabitur commodo mauris non elit sagittis, vitae lobortis odio pulvinar. In sagittis purus vitae purus dapibus pellentesque. Curabitur posuere aliquam congue. Sed porttitor leo semper nisi ultrices, vel luctus nibh vehicula. Proin faucibus aliquam scelerisque. Cras magna lorem, iaculis eu nibh in, sodales varius justo. Donec ut placerat enim. Aliquam vulputate nibh eu enim dictum aliquet. Vestibulum sed neque sollicitudin, porta velit nec, laoreet turpis. Duis bibendum turpis vel diam dictum rutrum.\n",
            "\n",
            "\n",
            "Quisque eu dolor tortor. Nulla volutpat urna ex, ultricies efficitur lectus iaculis sit amet. In fermentum, ante vel venenatis vulputate, magna felis vulputate enim, sed laoreet ligula urna dapibus nisi. Suspendisse in sem sed elit posuere posuere et at felis. Phasellus rhoncus facilisis erat sit amet hendrerit. Praesent interdum elit dui, in dapibus risus gravida dignissim. Fusce nec dolor vitae dui lobortis hendrerit. Fusce eu velit quis nulla pharetra laoreet sed vel enim. Phasellus eget massa vulputate, lobortis velit sit amet, placerat nulla. Phasellus porta nec enim at euismod. Etiam interdum, eros eget semper mattis, nisl enim porttitor lectus, hendrerit mollis tortor leo ut velit.\n",
            "\n",
            "Generated 5 paragraphs, 522 words, 3549 bytes of Lorem Ipsum\n",
            "\n",
            "\n",
            "\n",
            "\n",
            "\n",
            "help@lipsum.comPrivacy Policy\n",
            "·\n",
            "Do Not Sell My Personal Information\n",
            "·\n",
            "Change Consent\n",
            "\n",
            "\n",
            "\n",
            "\n",
            "\n",
            "\n",
            "\n",
            "\n",
            "  \n",
            "    freestar.config.enabled_slots.push({ placementName: \"lipsumcom_leaderboard_bottom\", slotId: \"lipsumcom_leaderboard_bottom\" });\n",
            "  \n",
            "\n",
            "\n",
            "\n",
            "\n",
            "\n",
            "\n",
            "\n"
          ]
        }
      ]
    },
    {
      "cell_type": "code",
      "source": [
        "# Find all articles\n",
        "summaries = soup.find_all(\"p\")\n",
        "summaries[0]"
      ],
      "metadata": {
        "colab": {
          "base_uri": "https://localhost:8080/"
        },
        "id": "ijZfFASbbzi1",
        "outputId": "4fd53784-bbbe-4137-fbc2-985b04c942cd"
      },
      "execution_count": 17,
      "outputs": [
        {
          "output_type": "execute_result",
          "data": {
            "text/plain": [
              "<p>\n",
              "Lorem ipsum dolor sit amet, consectetur adipiscing elit. Aliquam massa mi, elementum id tincidunt a, vehicula vitae erat. Phasellus ultrices urna ac leo porta pulvinar. Aliquam aliquet volutpat velit ut porttitor. Sed sed nibh vel eros venenatis laoreet. Aenean accumsan diam ut est tempus, eu tempus erat suscipit. Cras rutrum lectus ac rhoncus lacinia. Vivamus egestas congue felis at dignissim. Mauris convallis suscipit quam rhoncus lobortis. Phasellus dignissim mi vehicula tortor finibus aliquet. Donec sed sollicitudin odio. Nunc elit nibh, pellentesque sed mollis sit amet, pulvinar et erat. Nullam tincidunt dolor vel felis mollis laoreet. Sed euismod urna ac ligula vestibulum vehicula. Suspendisse potenti.\n",
              "</p>"
            ]
          },
          "metadata": {},
          "execution_count": 17
        }
      ]
    },
    {
      "cell_type": "code",
      "source": [
        "text = summaries[0].get_text().strip()"
      ],
      "metadata": {
        "id": "ounfFHhefLna"
      },
      "execution_count": 21,
      "outputs": []
    },
    {
      "cell_type": "code",
      "source": [
        "# Convert to lowercase\n",
        "text = text.lower()\n",
        "print(text)"
      ],
      "metadata": {
        "colab": {
          "base_uri": "https://localhost:8080/"
        },
        "id": "xLosx_vHflRI",
        "outputId": "38740fe8-9a36-4f51-f3aa-57c7c155a685"
      },
      "execution_count": 22,
      "outputs": [
        {
          "output_type": "stream",
          "name": "stdout",
          "text": [
            "lorem ipsum dolor sit amet, consectetur adipiscing elit. aliquam massa mi, elementum id tincidunt a, vehicula vitae erat. phasellus ultrices urna ac leo porta pulvinar. aliquam aliquet volutpat velit ut porttitor. sed sed nibh vel eros venenatis laoreet. aenean accumsan diam ut est tempus, eu tempus erat suscipit. cras rutrum lectus ac rhoncus lacinia. vivamus egestas congue felis at dignissim. mauris convallis suscipit quam rhoncus lobortis. phasellus dignissim mi vehicula tortor finibus aliquet. donec sed sollicitudin odio. nunc elit nibh, pellentesque sed mollis sit amet, pulvinar et erat. nullam tincidunt dolor vel felis mollis laoreet. sed euismod urna ac ligula vestibulum vehicula. suspendisse potenti.\n"
          ]
        }
      ]
    },
    {
      "cell_type": "code",
      "source": [
        "import re\n",
        "\n",
        "# Remove punctuation characters\n",
        "text = re.sub(r\"[^a-zA-Z0-9]\", \" \", text)\n",
        "print(text)"
      ],
      "metadata": {
        "colab": {
          "base_uri": "https://localhost:8080/"
        },
        "id": "x1Lfu2b3gGvk",
        "outputId": "1bf0baba-5267-4588-c3b7-af8e25570457"
      },
      "execution_count": 23,
      "outputs": [
        {
          "output_type": "stream",
          "name": "stdout",
          "text": [
            "lorem ipsum dolor sit amet  consectetur adipiscing elit  aliquam massa mi  elementum id tincidunt a  vehicula vitae erat  phasellus ultrices urna ac leo porta pulvinar  aliquam aliquet volutpat velit ut porttitor  sed sed nibh vel eros venenatis laoreet  aenean accumsan diam ut est tempus  eu tempus erat suscipit  cras rutrum lectus ac rhoncus lacinia  vivamus egestas congue felis at dignissim  mauris convallis suscipit quam rhoncus lobortis  phasellus dignissim mi vehicula tortor finibus aliquet  donec sed sollicitudin odio  nunc elit nibh  pellentesque sed mollis sit amet  pulvinar et erat  nullam tincidunt dolor vel felis mollis laoreet  sed euismod urna ac ligula vestibulum vehicula  suspendisse potenti \n"
          ]
        }
      ]
    },
    {
      "cell_type": "code",
      "source": [
        "words = text.split()\n",
        "print(words)"
      ],
      "metadata": {
        "colab": {
          "base_uri": "https://localhost:8080/"
        },
        "id": "MTxmiXvVgNjU",
        "outputId": "e6cbe4e5-c62c-4e8c-c7a0-6bea5b95dc6a"
      },
      "execution_count": 24,
      "outputs": [
        {
          "output_type": "stream",
          "name": "stdout",
          "text": [
            "['lorem', 'ipsum', 'dolor', 'sit', 'amet', 'consectetur', 'adipiscing', 'elit', 'aliquam', 'massa', 'mi', 'elementum', 'id', 'tincidunt', 'a', 'vehicula', 'vitae', 'erat', 'phasellus', 'ultrices', 'urna', 'ac', 'leo', 'porta', 'pulvinar', 'aliquam', 'aliquet', 'volutpat', 'velit', 'ut', 'porttitor', 'sed', 'sed', 'nibh', 'vel', 'eros', 'venenatis', 'laoreet', 'aenean', 'accumsan', 'diam', 'ut', 'est', 'tempus', 'eu', 'tempus', 'erat', 'suscipit', 'cras', 'rutrum', 'lectus', 'ac', 'rhoncus', 'lacinia', 'vivamus', 'egestas', 'congue', 'felis', 'at', 'dignissim', 'mauris', 'convallis', 'suscipit', 'quam', 'rhoncus', 'lobortis', 'phasellus', 'dignissim', 'mi', 'vehicula', 'tortor', 'finibus', 'aliquet', 'donec', 'sed', 'sollicitudin', 'odio', 'nunc', 'elit', 'nibh', 'pellentesque', 'sed', 'mollis', 'sit', 'amet', 'pulvinar', 'et', 'erat', 'nullam', 'tincidunt', 'dolor', 'vel', 'felis', 'mollis', 'laoreet', 'sed', 'euismod', 'urna', 'ac', 'ligula', 'vestibulum', 'vehicula', 'suspendisse', 'potenti']\n"
          ]
        }
      ]
    },
    {
      "cell_type": "code",
      "source": [
        "import os\n",
        "import nltk\n",
        "nltk.download('punkt')\n",
        "nltk.data.path.append(os.path.join(os.getcwd(), \"nltk_data\"))"
      ],
      "metadata": {
        "colab": {
          "base_uri": "https://localhost:8080/"
        },
        "id": "9tCgD5e2gSM3",
        "outputId": "4437d2eb-80fa-4521-a28c-2ce27396bc2f"
      },
      "execution_count": 25,
      "outputs": [
        {
          "output_type": "stream",
          "name": "stderr",
          "text": [
            "[nltk_data] Downloading package punkt to /root/nltk_data...\n",
            "[nltk_data]   Unzipping tokenizers/punkt.zip.\n"
          ]
        }
      ]
    },
    {
      "cell_type": "code",
      "source": [
        "print(text)"
      ],
      "metadata": {
        "colab": {
          "base_uri": "https://localhost:8080/"
        },
        "id": "UBvx9_tpgX8x",
        "outputId": "8271062e-2f15-4d62-bc50-3635ae493c2c"
      },
      "execution_count": 26,
      "outputs": [
        {
          "output_type": "stream",
          "name": "stdout",
          "text": [
            "lorem ipsum dolor sit amet  consectetur adipiscing elit  aliquam massa mi  elementum id tincidunt a  vehicula vitae erat  phasellus ultrices urna ac leo porta pulvinar  aliquam aliquet volutpat velit ut porttitor  sed sed nibh vel eros venenatis laoreet  aenean accumsan diam ut est tempus  eu tempus erat suscipit  cras rutrum lectus ac rhoncus lacinia  vivamus egestas congue felis at dignissim  mauris convallis suscipit quam rhoncus lobortis  phasellus dignissim mi vehicula tortor finibus aliquet  donec sed sollicitudin odio  nunc elit nibh  pellentesque sed mollis sit amet  pulvinar et erat  nullam tincidunt dolor vel felis mollis laoreet  sed euismod urna ac ligula vestibulum vehicula  suspendisse potenti \n"
          ]
        }
      ]
    },
    {
      "cell_type": "code",
      "source": [
        "from nltk.tokenize import word_tokenize\n",
        "\n",
        "# Split text into words using NLTK\n",
        "words = word_tokenize(text)\n",
        "print(words)"
      ],
      "metadata": {
        "colab": {
          "base_uri": "https://localhost:8080/"
        },
        "id": "ptmUY6cUgd99",
        "outputId": "35ceaa32-f05a-4931-f84a-25c18260457b"
      },
      "execution_count": 27,
      "outputs": [
        {
          "output_type": "stream",
          "name": "stdout",
          "text": [
            "['lorem', 'ipsum', 'dolor', 'sit', 'amet', 'consectetur', 'adipiscing', 'elit', 'aliquam', 'massa', 'mi', 'elementum', 'id', 'tincidunt', 'a', 'vehicula', 'vitae', 'erat', 'phasellus', 'ultrices', 'urna', 'ac', 'leo', 'porta', 'pulvinar', 'aliquam', 'aliquet', 'volutpat', 'velit', 'ut', 'porttitor', 'sed', 'sed', 'nibh', 'vel', 'eros', 'venenatis', 'laoreet', 'aenean', 'accumsan', 'diam', 'ut', 'est', 'tempus', 'eu', 'tempus', 'erat', 'suscipit', 'cras', 'rutrum', 'lectus', 'ac', 'rhoncus', 'lacinia', 'vivamus', 'egestas', 'congue', 'felis', 'at', 'dignissim', 'mauris', 'convallis', 'suscipit', 'quam', 'rhoncus', 'lobortis', 'phasellus', 'dignissim', 'mi', 'vehicula', 'tortor', 'finibus', 'aliquet', 'donec', 'sed', 'sollicitudin', 'odio', 'nunc', 'elit', 'nibh', 'pellentesque', 'sed', 'mollis', 'sit', 'amet', 'pulvinar', 'et', 'erat', 'nullam', 'tincidunt', 'dolor', 'vel', 'felis', 'mollis', 'laoreet', 'sed', 'euismod', 'urna', 'ac', 'ligula', 'vestibulum', 'vehicula', 'suspendisse', 'potenti']\n"
          ]
        }
      ]
    },
    {
      "cell_type": "code",
      "source": [
        "nltk.download('stopwords')\n",
        "# List stop words\n",
        "from nltk.corpus import stopwords\n",
        "print(stopwords.words(\"english\"))"
      ],
      "metadata": {
        "colab": {
          "base_uri": "https://localhost:8080/"
        },
        "id": "VTWd2PrOggVq",
        "outputId": "ca30a065-58ee-4a9a-ca9b-c5bf2bf9f640"
      },
      "execution_count": 28,
      "outputs": [
        {
          "output_type": "stream",
          "name": "stdout",
          "text": [
            "['i', 'me', 'my', 'myself', 'we', 'our', 'ours', 'ourselves', 'you', \"you're\", \"you've\", \"you'll\", \"you'd\", 'your', 'yours', 'yourself', 'yourselves', 'he', 'him', 'his', 'himself', 'she', \"she's\", 'her', 'hers', 'herself', 'it', \"it's\", 'its', 'itself', 'they', 'them', 'their', 'theirs', 'themselves', 'what', 'which', 'who', 'whom', 'this', 'that', \"that'll\", 'these', 'those', 'am', 'is', 'are', 'was', 'were', 'be', 'been', 'being', 'have', 'has', 'had', 'having', 'do', 'does', 'did', 'doing', 'a', 'an', 'the', 'and', 'but', 'if', 'or', 'because', 'as', 'until', 'while', 'of', 'at', 'by', 'for', 'with', 'about', 'against', 'between', 'into', 'through', 'during', 'before', 'after', 'above', 'below', 'to', 'from', 'up', 'down', 'in', 'out', 'on', 'off', 'over', 'under', 'again', 'further', 'then', 'once', 'here', 'there', 'when', 'where', 'why', 'how', 'all', 'any', 'both', 'each', 'few', 'more', 'most', 'other', 'some', 'such', 'no', 'nor', 'not', 'only', 'own', 'same', 'so', 'than', 'too', 'very', 's', 't', 'can', 'will', 'just', 'don', \"don't\", 'should', \"should've\", 'now', 'd', 'll', 'm', 'o', 're', 've', 'y', 'ain', 'aren', \"aren't\", 'couldn', \"couldn't\", 'didn', \"didn't\", 'doesn', \"doesn't\", 'hadn', \"hadn't\", 'hasn', \"hasn't\", 'haven', \"haven't\", 'isn', \"isn't\", 'ma', 'mightn', \"mightn't\", 'mustn', \"mustn't\", 'needn', \"needn't\", 'shan', \"shan't\", 'shouldn', \"shouldn't\", 'wasn', \"wasn't\", 'weren', \"weren't\", 'won', \"won't\", 'wouldn', \"wouldn't\"]\n"
          ]
        },
        {
          "output_type": "stream",
          "name": "stderr",
          "text": [
            "[nltk_data] Downloading package stopwords to /root/nltk_data...\n",
            "[nltk_data]   Unzipping corpora/stopwords.zip.\n"
          ]
        }
      ]
    },
    {
      "cell_type": "code",
      "source": [
        "# Normalize it\n",
        "text = re.sub(r\"[^a-zA-Z0-9]\", \" \", text.lower())\n",
        "\n",
        "# Tokenize it\n",
        "words = text.split()\n",
        "print(words)"
      ],
      "metadata": {
        "colab": {
          "base_uri": "https://localhost:8080/"
        },
        "id": "Ll07URmUgl6w",
        "outputId": "f5695622-0a5a-4086-e291-03d8ccee55c6"
      },
      "execution_count": 29,
      "outputs": [
        {
          "output_type": "stream",
          "name": "stdout",
          "text": [
            "['lorem', 'ipsum', 'dolor', 'sit', 'amet', 'consectetur', 'adipiscing', 'elit', 'aliquam', 'massa', 'mi', 'elementum', 'id', 'tincidunt', 'a', 'vehicula', 'vitae', 'erat', 'phasellus', 'ultrices', 'urna', 'ac', 'leo', 'porta', 'pulvinar', 'aliquam', 'aliquet', 'volutpat', 'velit', 'ut', 'porttitor', 'sed', 'sed', 'nibh', 'vel', 'eros', 'venenatis', 'laoreet', 'aenean', 'accumsan', 'diam', 'ut', 'est', 'tempus', 'eu', 'tempus', 'erat', 'suscipit', 'cras', 'rutrum', 'lectus', 'ac', 'rhoncus', 'lacinia', 'vivamus', 'egestas', 'congue', 'felis', 'at', 'dignissim', 'mauris', 'convallis', 'suscipit', 'quam', 'rhoncus', 'lobortis', 'phasellus', 'dignissim', 'mi', 'vehicula', 'tortor', 'finibus', 'aliquet', 'donec', 'sed', 'sollicitudin', 'odio', 'nunc', 'elit', 'nibh', 'pellentesque', 'sed', 'mollis', 'sit', 'amet', 'pulvinar', 'et', 'erat', 'nullam', 'tincidunt', 'dolor', 'vel', 'felis', 'mollis', 'laoreet', 'sed', 'euismod', 'urna', 'ac', 'ligula', 'vestibulum', 'vehicula', 'suspendisse', 'potenti']\n"
          ]
        }
      ]
    },
    {
      "cell_type": "code",
      "source": [
        "# Remove stop words\n",
        "words = [w for w in words if w not in stopwords.words(\"english\")]\n",
        "print(words)"
      ],
      "metadata": {
        "colab": {
          "base_uri": "https://localhost:8080/"
        },
        "id": "39IuFXJigq3R",
        "outputId": "db2d35fb-4a15-47e2-a6a0-4d09d4dfb128"
      },
      "execution_count": 30,
      "outputs": [
        {
          "output_type": "stream",
          "name": "stdout",
          "text": [
            "['lorem', 'ipsum', 'dolor', 'sit', 'amet', 'consectetur', 'adipiscing', 'elit', 'aliquam', 'massa', 'mi', 'elementum', 'id', 'tincidunt', 'vehicula', 'vitae', 'erat', 'phasellus', 'ultrices', 'urna', 'ac', 'leo', 'porta', 'pulvinar', 'aliquam', 'aliquet', 'volutpat', 'velit', 'ut', 'porttitor', 'sed', 'sed', 'nibh', 'vel', 'eros', 'venenatis', 'laoreet', 'aenean', 'accumsan', 'diam', 'ut', 'est', 'tempus', 'eu', 'tempus', 'erat', 'suscipit', 'cras', 'rutrum', 'lectus', 'ac', 'rhoncus', 'lacinia', 'vivamus', 'egestas', 'congue', 'felis', 'dignissim', 'mauris', 'convallis', 'suscipit', 'quam', 'rhoncus', 'lobortis', 'phasellus', 'dignissim', 'mi', 'vehicula', 'tortor', 'finibus', 'aliquet', 'donec', 'sed', 'sollicitudin', 'odio', 'nunc', 'elit', 'nibh', 'pellentesque', 'sed', 'mollis', 'sit', 'amet', 'pulvinar', 'et', 'erat', 'nullam', 'tincidunt', 'dolor', 'vel', 'felis', 'mollis', 'laoreet', 'sed', 'euismod', 'urna', 'ac', 'ligula', 'vestibulum', 'vehicula', 'suspendisse', 'potenti']\n"
          ]
        }
      ]
    },
    {
      "cell_type": "code",
      "source": [
        "import nltk\n",
        "\n",
        "# Define a custom grammar\n",
        "my_grammar = nltk.CFG.fromstring(\"\"\"\n",
        "S -> NP VP\n",
        "PP -> P NP\n",
        "NP -> Det N | Det N PP | 'I'\n",
        "VP -> V NP | VP PP\n",
        "Det -> 'an' | 'my'\n",
        "N -> 'elephant' | 'pajamas'\n",
        "V -> 'shot'\n",
        "P -> 'in'\n",
        "\"\"\")\n",
        "parser = nltk.ChartParser(my_grammar)\n",
        "\n",
        "# Parse a sentence\n",
        "sentence = word_tokenize(\"I shot an elephant in my pajamas\")\n",
        "for tree in parser.parse(sentence):\n",
        "    print(tree)"
      ],
      "metadata": {
        "colab": {
          "base_uri": "https://localhost:8080/"
        },
        "id": "_oIiDY-Sgw0S",
        "outputId": "981ec286-1144-4492-f967-1f22b64fd5af"
      },
      "execution_count": 31,
      "outputs": [
        {
          "output_type": "stream",
          "name": "stdout",
          "text": [
            "(S\n",
            "  (NP I)\n",
            "  (VP\n",
            "    (VP (V shot) (NP (Det an) (N elephant)))\n",
            "    (PP (P in) (NP (Det my) (N pajamas)))))\n",
            "(S\n",
            "  (NP I)\n",
            "  (VP\n",
            "    (V shot)\n",
            "    (NP (Det an) (N elephant) (PP (P in) (NP (Det my) (N pajamas))))))\n"
          ]
        }
      ]
    },
    {
      "cell_type": "code",
      "source": [
        "from nltk.stem.porter import PorterStemmer\n",
        "\n",
        "# Reduce words to their stems\n",
        "stemmed = [PorterStemmer().stem(w) for w in words]\n",
        "print(stemmed)"
      ],
      "metadata": {
        "colab": {
          "base_uri": "https://localhost:8080/"
        },
        "id": "6QYsbTBkg3zB",
        "outputId": "70d2d22e-273f-4b90-b84d-5e4be460c061"
      },
      "execution_count": 32,
      "outputs": [
        {
          "output_type": "stream",
          "name": "stdout",
          "text": [
            "['lorem', 'ipsum', 'dolor', 'sit', 'amet', 'consectetur', 'adipisc', 'elit', 'aliquam', 'massa', 'mi', 'elementum', 'id', 'tincidunt', 'vehicula', 'vita', 'erat', 'phasellu', 'ultric', 'urna', 'ac', 'leo', 'porta', 'pulvinar', 'aliquam', 'aliquet', 'volutpat', 'velit', 'ut', 'porttitor', 'sed', 'sed', 'nibh', 'vel', 'ero', 'venenati', 'laoreet', 'aenean', 'accumsan', 'diam', 'ut', 'est', 'tempu', 'eu', 'tempu', 'erat', 'suscipit', 'cra', 'rutrum', 'lectu', 'ac', 'rhoncu', 'lacinia', 'vivamu', 'egesta', 'congu', 'feli', 'dignissim', 'mauri', 'conval', 'suscipit', 'quam', 'rhoncu', 'loborti', 'phasellu', 'dignissim', 'mi', 'vehicula', 'tortor', 'finibu', 'aliquet', 'donec', 'sed', 'sollicitudin', 'odio', 'nunc', 'elit', 'nibh', 'pellentesqu', 'sed', 'molli', 'sit', 'amet', 'pulvinar', 'et', 'erat', 'nullam', 'tincidunt', 'dolor', 'vel', 'feli', 'molli', 'laoreet', 'sed', 'euismod', 'urna', 'ac', 'ligula', 'vestibulum', 'vehicula', 'suspendiss', 'potenti']\n"
          ]
        }
      ]
    },
    {
      "cell_type": "code",
      "source": [
        "nltk.download('wordnet')\n",
        "\n",
        "from nltk.stem.wordnet import WordNetLemmatizer\n",
        "\n",
        "# Reduce words to their root form\n",
        "lemmed = [WordNetLemmatizer().lemmatize(w) for w in words]\n",
        "print(lemmed)"
      ],
      "metadata": {
        "colab": {
          "base_uri": "https://localhost:8080/"
        },
        "id": "5pd57eosg5wK",
        "outputId": "1c122659-4247-429b-b5c9-07d65e89b9f2"
      },
      "execution_count": 33,
      "outputs": [
        {
          "output_type": "stream",
          "name": "stderr",
          "text": [
            "[nltk_data] Downloading package wordnet to /root/nltk_data...\n"
          ]
        },
        {
          "output_type": "stream",
          "name": "stdout",
          "text": [
            "['lorem', 'ipsum', 'dolor', 'sit', 'amet', 'consectetur', 'adipiscing', 'elit', 'aliquam', 'massa', 'mi', 'elementum', 'id', 'tincidunt', 'vehicula', 'vitae', 'erat', 'phasellus', 'ultrices', 'urna', 'ac', 'leo', 'porta', 'pulvinar', 'aliquam', 'aliquet', 'volutpat', 'velit', 'ut', 'porttitor', 'sed', 'sed', 'nibh', 'vel', 'eros', 'venenatis', 'laoreet', 'aenean', 'accumsan', 'diam', 'ut', 'est', 'tempus', 'eu', 'tempus', 'erat', 'suscipit', 'cras', 'rutrum', 'lectus', 'ac', 'rhoncus', 'lacinia', 'vivamus', 'egestas', 'congue', 'felis', 'dignissim', 'mauris', 'convallis', 'suscipit', 'quam', 'rhoncus', 'lobortis', 'phasellus', 'dignissim', 'mi', 'vehicula', 'tortor', 'finibus', 'aliquet', 'donec', 'sed', 'sollicitudin', 'odio', 'nunc', 'elit', 'nibh', 'pellentesque', 'sed', 'mollis', 'sit', 'amet', 'pulvinar', 'et', 'erat', 'nullam', 'tincidunt', 'dolor', 'vel', 'felis', 'mollis', 'laoreet', 'sed', 'euismod', 'urna', 'ac', 'ligula', 'vestibulum', 'vehicula', 'suspendisse', 'potenti']\n"
          ]
        }
      ]
    },
    {
      "cell_type": "code",
      "source": [
        "# Lemmatize verbs by specifying pos\n",
        "lemmed = [WordNetLemmatizer().lemmatize(w, pos='v') for w in lemmed]\n",
        "print(lemmed)"
      ],
      "metadata": {
        "colab": {
          "base_uri": "https://localhost:8080/"
        },
        "id": "xhj3Wj3Yg_GR",
        "outputId": "cf9242a0-e58d-4a87-f3b7-3a6984a83ab6"
      },
      "execution_count": 34,
      "outputs": [
        {
          "output_type": "stream",
          "name": "stdout",
          "text": [
            "['lorem', 'ipsum', 'dolor', 'sit', 'amet', 'consectetur', 'adipiscing', 'elit', 'aliquam', 'massa', 'mi', 'elementum', 'id', 'tincidunt', 'vehicula', 'vitae', 'erat', 'phasellus', 'ultrices', 'urna', 'ac', 'leo', 'porta', 'pulvinar', 'aliquam', 'aliquet', 'volutpat', 'velit', 'ut', 'porttitor', 'sed', 'sed', 'nibh', 'vel', 'eros', 'venenatis', 'laoreet', 'aenean', 'accumsan', 'diam', 'ut', 'est', 'tempus', 'eu', 'tempus', 'erat', 'suscipit', 'cras', 'rutrum', 'lectus', 'ac', 'rhoncus', 'lacinia', 'vivamus', 'egestas', 'congue', 'felis', 'dignissim', 'mauris', 'convallis', 'suscipit', 'quam', 'rhoncus', 'lobortis', 'phasellus', 'dignissim', 'mi', 'vehicula', 'tortor', 'finibus', 'aliquet', 'donec', 'sed', 'sollicitudin', 'odio', 'nunc', 'elit', 'nibh', 'pellentesque', 'sed', 'mollis', 'sit', 'amet', 'pulvinar', 'et', 'erat', 'nullam', 'tincidunt', 'dolor', 'vel', 'felis', 'mollis', 'laoreet', 'sed', 'euismod', 'urna', 'ac', 'ligula', 'vestibulum', 'vehicula', 'suspendisse', 'potenti']\n"
          ]
        }
      ]
    }
  ]
}